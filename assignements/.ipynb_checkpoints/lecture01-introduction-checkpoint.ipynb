{
 "cells": [
  {
   "cell_type": "markdown",
   "metadata": {
    "colab_type": "text",
    "id": "i_f5u2x9nn6I",
    "slideshow": {
     "slide_type": "slide"
    },
    "tags": []
   },
   "source": [
    "<left><img width=25% src=\"img/cu_logo.svg\"></left>\n",
    "\n",
    "# **Lecture 1**: Introduction to Machine Learning\n",
    "\n",
    "__Milton Pividori__<br>Department of Biomedical Informatics<br>University of Colorado Anschutz Medical Campus"
   ]
  },
  {
   "cell_type": "markdown",
   "metadata": {
    "slideshow": {
     "slide_type": "slide"
    },
    "tags": []
   },
   "source": [
    "# Welcome to Intro to Big Data in the Biomedical Sciences!\n",
    "\n",
    "An introduction to \"big data\" in the context of biomedical sciences must include machine learning (ML).\n",
    "\n",
    "Machine learning is one of today's most exciting emerging technologies.\n",
    "\n",
    "In this course, you will learn what machine learning is, some of the most important algorithms in machine learning, and how to apply them to solve problems."
   ]
  },
  {
   "cell_type": "markdown",
   "metadata": {
    "slideshow": {
     "slide_type": "slide"
    },
    "tags": []
   },
   "source": [
    "# Part 1: What is Machine Learning?\n",
    "\n",
    "The last few years have produced impressive advances in artificial intelligence.\n",
    "\n",
    "<table><tr>\n",
    "    <td><center><img width=90% src=\"img/stable-diffusion-example.png\"/></center></td>\n",
    "<!--     <td><center><img width=100% src=\"img/midjourney-example.png\"/></center></td> -->\n",
    "    <td><center><img width=64% src=\"img/chatgpt.png\"/></center></td>\n",
    "</tr></table>\n",
    "\n",
    "Many of these advances have been made possible by _machine learning_."
   ]
  },
  {
   "cell_type": "markdown",
   "metadata": {
    "slideshow": {
     "slide_type": "slide"
    },
    "tags": []
   },
   "source": [
    "# ML in Everyday Life: Search Engines\n",
    "\n",
    "You use machine learning every day when you use a search engine.\n",
    "\n",
    "<center><img src=\"img/google.png\"/></center>"
   ]
  },
  {
   "cell_type": "markdown",
   "metadata": {
    "slideshow": {
     "slide_type": "slide"
    },
    "tags": []
   },
   "source": [
    "# ML in Everyday Life: Spam/Fraud Detection\n",
    "\n",
    "Machine learning is used in every spam filter, such as in Gmail.\n",
    "<br>\n",
    "<center><img src=\"img/spam.png\"/></center>"
   ]
  },
  {
   "cell_type": "markdown",
   "metadata": {
    "slideshow": {
     "slide_type": "-"
    }
   },
   "source": [
    "ML systems are also used by credit card companies and banks to automatically detect fraudulent behavior."
   ]
  },
  {
   "cell_type": "markdown",
   "metadata": {
    "slideshow": {
     "slide_type": "slide"
    },
    "tags": []
   },
   "source": [
    "# ML in Everyday Life: Self-Driving Cars\n",
    "\n",
    "One of the most exciting and cutting-edge uses of machine learning algorithms is in autonomous vehicles.\n",
    "\n",
    "<center><img width=\"80%\" src=\"img/waymo.jpg\"/></center>"
   ]
  },
  {
   "cell_type": "markdown",
   "metadata": {
    "slideshow": {
     "slide_type": "slide"
    },
    "tags": []
   },
   "source": [
    "# A Definition of Machine Learning\n",
    "\n",
    "In 1959, Arthur Samuel defined machine learning as follows.\n",
    "\n",
    "> Machine learning is a field of study that gives computers the ability to learn without being explicitly programmed.\n",
    "\n",
    "What do \"learn\" and \"explicitly programmed\" mean here? Let's look at an example."
   ]
  },
  {
   "cell_type": "markdown",
   "metadata": {
    "slideshow": {
     "slide_type": "slide"
    },
    "tags": []
   },
   "source": [
    "# An Example: Self Driving Cars\n",
    "\n",
    "A self-driving car system uses dozens of components that include detection of cars, pedestrians, and other objects.\n",
    "<br>\n",
    "<center><img width=80% src=\"img/tesla.jpg\"/></center>"
   ]
  },
  {
   "cell_type": "markdown",
   "metadata": {
    "slideshow": {
     "slide_type": "slide"
    },
    "tags": []
   },
   "source": [
    "# Self Driving Cars: A Rule-Based Algorithm\n",
    "\n",
    "One way to build a detection system is to write down rules.\n",
    "<left><img width=50% src=\"img/tesla_zoom.jpg\"/></left>\n",
    "\n",
    "<!-- <table style=\"border: 1px\"><tr>\n",
    "    <td><left>One way to build a detection system is to write down rules.</left></td>\n",
    "    <td><img src=\"img/tesla_zoom.jpg\"/></td>\n",
    "</tr></table> -->"
   ]
  },
  {
   "cell_type": "markdown",
   "metadata": {
    "slideshow": {
     "slide_type": "fragment"
    },
    "tags": []
   },
   "source": [
    "```python\n",
    "# pseudocode example for a rule-based classification system\n",
    "object = camera.get_object()\n",
    "if object.has_wheels(): # does the object have wheels?\n",
    "    if len(object.wheels) == 4: return \"Car\" # four wheels => car\n",
    "    elif len(object.wheels) == 2:\n",
    "        if object.seen_from_back():\n",
    "            return \"Car\" # viewed from back, car has 2 wheels\n",
    "        else:\n",
    "            return \"Bicycle\" # normally, 2 wheels => bicycle\n",
    "return \"Unknown\" # no wheels? we don't know what it is\n",
    "```"
   ]
  },
  {
   "cell_type": "markdown",
   "metadata": {
    "slideshow": {
     "slide_type": "fragment"
    },
    "tags": []
   },
   "source": [
    "In practice, it's almost impossible for a human to specify all the edge cases."
   ]
  },
  {
   "cell_type": "markdown",
   "metadata": {
    "slideshow": {
     "slide_type": "slide"
    },
    "tags": []
   },
   "source": [
    "# Self Driving Cars: An ML Approach\n",
    "\n",
    "The machine learning approach is to teach a computer how to do detection by showing it many examples of different objects.\n",
    "\n",
    "<center><img src=\"img/tesla_data.png\"/></center>\n",
    "\n",
    "No manual programming is needed: the computer learns what defines a pedestrian or a car on its own!"
   ]
  },
  {
   "cell_type": "markdown",
   "metadata": {
    "slideshow": {
     "slide_type": "slide"
    },
    "tags": []
   },
   "source": [
    "# Revisiting Our Definition of ML\n",
    "\n",
    "> Machine learning is a field of study that gives computers the ability to learn without being explicitly programmed. (Arthur Samuel, 1959.)\n",
    "\n",
    "This principle can be applied to countless domains:\n",
    "medical diagnosis, factory automation, machine translation, and many more!"
   ]
  },
  {
   "cell_type": "markdown",
   "metadata": {
    "slideshow": {
     "slide_type": "slide"
    },
    "tags": []
   },
   "source": [
    "# Why Machine Learning?\n",
    "\n",
    "Why is this approach to building software interesting?"
   ]
  },
  {
   "cell_type": "markdown",
   "metadata": {
    "slideshow": {
     "slide_type": "fragment"
    },
    "tags": []
   },
   "source": [
    "* It lets us build practical systems for real-world applications for which other engineering approaches don't work."
   ]
  },
  {
   "cell_type": "markdown",
   "metadata": {
    "slideshow": {
     "slide_type": "fragment"
    },
    "tags": []
   },
   "source": [
    "* Learning is widely regarded as a key approach towards building general-purpose artificial intelligence systems."
   ]
  },
  {
   "cell_type": "markdown",
   "metadata": {
    "slideshow": {
     "slide_type": "fragment"
    },
    "tags": []
   },
   "source": [
    "* The science and engineering of machine learning offers insights into human intelligence."
   ]
  },
  {
   "cell_type": "markdown",
   "metadata": {
    "slideshow": {
     "slide_type": "slide"
    },
    "tags": []
   },
   "source": [
    "# ... And Why Machine Learning in **Biomedical Sciences**?\n",
    "\n",
    "* **Enhanced Pattern Recognition**: ML algorithms excel at identifying complex patterns in high-dimensional biomedical data that are beyond human detection."
   ]
  },
  {
   "cell_type": "markdown",
   "metadata": {
    "slideshow": {
     "slide_type": "fragment"
    },
    "tags": []
   },
   "source": [
    "* **Personalized Medicine**: ML enables the development of models that predict individual patient responses to treatments, driving precision medicine and tailored healthcare."
   ]
  },
  {
   "cell_type": "markdown",
   "metadata": {
    "slideshow": {
     "slide_type": "fragment"
    },
    "tags": []
   },
   "source": [
    "* **Efficient Data Integration**: ML tools can analyze and integrate large, diverse datasets (e.g., genomics, imaging, and clinical data), facilitating holistic insights and novel discoveries."
   ]
  },
  {
   "cell_type": "markdown",
   "metadata": {
    "slideshow": {
     "slide_type": "slide"
    },
    "tags": []
   },
   "source": [
    "<left><img width=25% src=\"img/cu_logo.svg\"></left>\n",
    "# Part 2: Three Approaches to Machine Learning\n",
    "\n",
    "Machine learning is broadly defined as the science of building software that has the ability to learn without being explicitly programmed.\n",
    "\n",
    "How might we enable machines to learn? Let's look at a few examples."
   ]
  },
  {
   "cell_type": "markdown",
   "metadata": {
    "slideshow": {
     "slide_type": "slide"
    },
    "tags": []
   },
   "source": [
    "# Supervised Learning\n",
    "\n",
    "The most common approach to machine learning is supervised learning.\n",
    "\n",
    "\n",
    "<center><img width=90% src=\"img/supervised_learning_example.png\"/></center>\n",
    "\n",
    "<sub><sup>Image Credit: DataFlair</sup></sub>"
   ]
  },
  {
   "cell_type": "markdown",
   "metadata": {
    "slideshow": {
     "slide_type": "slide"
    },
    "tags": []
   },
   "source": [
    "# Supervised Learning: Object Detection\n",
    "We previously saw an example of supervised learning: object detection.\n",
    "<center><img width=70% src=\"img/tesla_data.png\"/></center>\n",
    "\n",
    "1. We start by collecting a dataset of labeled objects.\n",
    "2. We train a model to output accurate predictions on this dataset.\n",
    "3. When the model sees new, similar data, it will also be accurate."
   ]
  },
  {
   "cell_type": "markdown",
   "metadata": {
    "slideshow": {
     "slide_type": "slide"
    },
    "tags": []
   },
   "source": [
    "# Applications of Supervised Learning\n",
    "\n",
    "Many important applications of machine learning are supervised:\n",
    "* Classifying medical images.\n",
    "* Translating between pairs of languages.\n",
    "* Detecting objects in autonomous driving.\n",
    "* Predicting which individuals are at high risk of disease."
   ]
  },
  {
   "cell_type": "markdown",
   "metadata": {
    "slideshow": {
     "slide_type": "slide"
    },
    "tags": []
   },
   "source": [
    "# Unsupervised Learning\n",
    "\n",
    "Here, we have a dataset *without* labels.  Our goal is to learn something interesting about the structure of the data.\n",
    "\n",
    "<center><img width=90% src=\"img/unsupervised_learning_example.png\"/></center>\n",
    "\n",
    "\n",
    "<sub><sup>Image Credit: DataFlair</sup></sub>"
   ]
  },
  {
   "cell_type": "markdown",
   "metadata": {
    "slideshow": {
     "slide_type": "slide"
    },
    "tags": []
   },
   "source": [
    "# Unsupervised Learning : Text Analysis\n",
    "\n",
    "In this next example, we have a text containing at least four distinct topics.\n",
    "\n",
    "<center><img width=60% src=\"img/lda1.png\"/></center>"
   ]
  },
  {
   "cell_type": "markdown",
   "metadata": {
    "slideshow": {
     "slide_type": "subslide"
    },
    "tags": []
   },
   "source": [
    "However, we initially do not know what the topics are.\n",
    "\n",
    "<center><img width=100% src=\"img/lda3.png\"/></center>"
   ]
  },
  {
   "cell_type": "markdown",
   "metadata": {
    "slideshow": {
     "slide_type": "subslide"
    },
    "tags": []
   },
   "source": [
    "Unsupervised *topic modeling* algorithms assign each word in a document to a topic and compute topic proportions for each document.\n",
    "\n",
    "<center><img width=100% src=\"img/lda2.png\"/></center>"
   ]
  },
  {
   "cell_type": "markdown",
   "metadata": {
    "slideshow": {
     "slide_type": "slide"
    },
    "tags": []
   },
   "source": [
    "# Applications of Unsupervised Learning\n",
    "\n",
    "Unsupervised learning methods have many other applications:\n",
    "* __Recommendation systems__: suggesting movies on Netflix.\n",
    "* __Anomaly and outlier detection__: identifying factory components that are likely to fail soon.\n",
    "* __Signal processing__: extracting clean human speech from a noisy audio recording.\n",
    "* __Disease subtyping__: finding subgroups of individuals with a disease."
   ]
  },
  {
   "cell_type": "markdown",
   "metadata": {
    "slideshow": {
     "slide_type": "slide"
    },
    "tags": []
   },
   "source": [
    "# Reinforcement Learning\n",
    "\n",
    "In reinforcement learning, an agent is interacting with the world over time. We teach it good behavior by providing it with rewards.\n",
    "\n",
    "<center><img width=80% src=\"img/rl.png\"/></center>\n",
    "\n",
    "<sub><sup>Image by Lily Weng</sup></sub>"
   ]
  },
  {
   "cell_type": "markdown",
   "metadata": {
    "slideshow": {
     "slide_type": "slide"
    },
    "tags": []
   },
   "source": [
    "# Applications of Reinforcement Learning\n",
    "\n",
    "Applications of reinforcement learning include:\n",
    "* Creating __agents__ that play games such as Chess or Go.\n",
    "* __Industrial control__: automatically operating cooling systems in datacenters to use energy more efficiently.\n",
    "* __Generative design__ of new drug compounds."
   ]
  },
  {
   "cell_type": "markdown",
   "metadata": {
    "slideshow": {
     "slide_type": "slide"
    },
    "tags": []
   },
   "source": [
    "# Artificial Intelligence and Deep Learning\n",
    "\n",
    "Machine learning is closely related to these two fields.\n",
    "* AI is about building machines that exhibit intelligence.\n",
    "* ML enables machines to learn from experience, a useful tool for AI.\n",
    "* Deep learning focuses on a family of learning algorithms loosely inspired by the brain.\n",
    "<center><img width=\"50%\" src=\"img/ai_ml_dl.png\"/></center>\n",
    "\n",
    "<sub><sup>Image [source](https://towardsdatascience.com/understanding-the-difference-between-ai-ml-and-dl-cceb63252a6c).</sup></sub>"
   ]
  },
  {
   "cell_type": "markdown",
   "metadata": {
    "slideshow": {
     "slide_type": "slide"
    },
    "tags": []
   },
   "source": [
    "<left><img width=25% src=\"img/cu_logo.svg\"></left>\n",
    "# Part 3: Logistics\n",
    "\n",
    "We conclude the lecture with the logistical aspects of the course."
   ]
  },
  {
   "cell_type": "markdown",
   "metadata": {
    "slideshow": {
     "slide_type": "slide"
    },
    "tags": []
   },
   "source": [
    "# What Is the Course About?\n",
    "\n",
    "This course introduces machine learning algorithms from a very practical perspective.\n",
    "* __Algorithms__: We cover a *broad* set of ML algorithms.\n",
    "* __Applications__: We'll explore scientific articles to learn how ML is applied in biomedical sciences.\n",
    "\n",
    "We won't focus deeply on the mathematical foundations of algorithms nor implement them from scratch."
   ]
  },
  {
   "cell_type": "markdown",
   "metadata": {
    "slideshow": {
     "slide_type": "slide"
    },
    "tags": []
   },
   "source": [
    "# Course Contents\n",
    "\n",
    "Some of the most important sets of topics we will cover include:\n",
    "* __Supervised Learning__: Regression, classification.\n",
    "* __Unsupervised Learning__: Clustering, dimensionality reduction.\n",
    "* __Applying ML__: Evaluation, overfitting, regularization."
   ]
  },
  {
   "cell_type": "markdown",
   "metadata": {
    "slideshow": {
     "slide_type": "slide"
    },
    "tags": []
   },
   "source": [
    "# Prerequisites: Is This Course For You?\n",
    "\n",
    "The course is intended for students from:\n",
    "\n",
    "* Computational Biosciences,\n",
    "* Computational Neuroscience,\n",
    "* Human Medical Genetics and Genomics,\n",
    "* and related programs where student research will be primarily computational."
   ]
  },
  {
   "cell_type": "markdown",
   "metadata": {
    "slideshow": {
     "slide_type": "fragment"
    },
    "tags": []
   },
   "source": [
    "The main requirements for this course are:\n",
    "\n",
    "* __Programming__: At least two years of experience in either R, Python or equivalent.\n",
    "* __Computational coursework__.\n",
    "\n",
    "This course does not assume any prior ML experience."
   ]
  },
  {
   "cell_type": "markdown",
   "metadata": {
    "slideshow": {
     "slide_type": "slide"
    },
    "tags": []
   },
   "source": [
    "# Logistics\n",
    "\n",
    "We meet Mon-Fri 10:00 a.m.-12:00 p.m. at Building Research 1 North P18, 6th floor, Room 6123.\n",
    "\n",
    "* __Class Webpage__: https://ucdenver.instructure.com/courses/553211\n",
    "* __Instructors__:\n",
    "    * Milton Pividori: milton.pividori@cuanschutz.edu\n",
    "      * Office hours: by appointment\n",
    "    * Lauren Vanderlinden: lauren.vanderlinden@cuanschutz.edu\n",
    "      * Office hours: by appointment\n",
    "* __Teaching Assistants__:\n",
    "    * Keenan Manpearl: keenan.manpearl@cuanschutz.edu\n",
    "      * Office hours: immediately following each regular class"
   ]
  },
  {
   "cell_type": "markdown",
   "metadata": {
    "slideshow": {
     "slide_type": "subslide"
    },
    "tags": []
   },
   "source": [
    "Please, reach out to us **via email**! We might not answer in a timely manner in Canvas."
   ]
  },
  {
   "cell_type": "markdown",
   "metadata": {
    "slideshow": {
     "slide_type": "subslide"
    },
    "tags": []
   },
   "source": [
    "We will use Canvas for the course.\n",
    "\n",
    "* __Assignments__: download and submit all assignments there\n",
    "    * Click the \"Assignments\" tab in Canvas\n",
    "* __Canvas Discussions__ Use the forum to ask us questions online\n",
    "    * Click the \"Discussions\" tab in Canvas\n",
    "* __Canvas Announcements__: Make sure to regularly watch for updates\n",
    "    * Click the \"Announcements\" tab in Canvas"
   ]
  },
  {
   "cell_type": "markdown",
   "metadata": {
    "slideshow": {
     "slide_type": "slide"
    },
    "tags": []
   },
   "source": [
    "# Lecture Slides\n",
    "\n",
    "The slides for each lecture will be available online on Canvas before the lecture.\n",
    "\n",
    "* We will also share lectures notes in HTML and PDF format\n",
    "* Look out for links and announcements on Canvas"
   ]
  },
  {
   "cell_type": "markdown",
   "metadata": {
    "slideshow": {
     "slide_type": "slide"
    },
    "tags": []
   },
   "source": [
    "# Grading\n",
    "\n",
    "* See syllabus for criteria.\n",
    "* We will have three assignments and three journal clubs.\n",
    "  * __Three assignments__: 75% - Conceptual questions & programming problems.\n",
    "  * __Three Journal Clubs__: 25% - Participation\n",
    "* __Assignments are due a week after__ they are released, at 5 pm MT.\n",
    "  * You have one late day with 10% penalty in grade.\n",
    "  * Submissions later than this need to be communicated to instructors."
   ]
  },
  {
   "cell_type": "markdown",
   "metadata": {
    "slideshow": {
     "slide_type": "slide"
    },
    "tags": []
   },
   "source": [
    "# Policy on Generative AI\n",
    "\n",
    "You are allowed but discouraged to use generative AI. If you choose to use it, you must add a statement explaining how you used it."
   ]
  },
  {
   "cell_type": "markdown",
   "metadata": {
    "slideshow": {
     "slide_type": "slide"
    },
    "tags": []
   },
   "source": [
    "# Software You Will Use\n",
    "\n",
    "You will use Python and popular machine learning libraries such as:\n",
    "\n",
    "  * `scikit-learn`. It implements most classical machine learning algorithms.\n",
    "  * `numpy`, `pandas`. Linear algebra and data processing libraries used to implement algorithms from scratch.\n",
    "  * `matplotlib`, `seaborn`. For plotting."
   ]
  },
  {
   "attachments": {
    "fb6be750-e671-4eee-9857-a8df3375723e.png": {
     "image/png": "[encoded data removed]"
    }
   },
   "cell_type": "markdown",
   "metadata": {
    "slideshow": {
     "slide_type": "slide"
    },
    "tags": []
   },
   "source": [
    "# Announcements\n",
    "\n",
    "For next journal club, we'll be reading this article:\n",
    "\n",
    "![image.png](attachment:fb6be750-e671-4eee-9857-a8df3375723e.png)\n",
    "\n",
    "**Link**: https://doi.org/10.1016/S2213-8587(18)30051-2 (PDF in Canvas)"
   ]
  },
  {
   "cell_type": "markdown",
   "metadata": {
    "slideshow": {
     "slide_type": "fragment"
    },
    "tags": []
   },
   "source": [
    "**Modality**:\n",
    "\n",
    "* everyone reads the paper\n",
    "* each student picks a section or figure for discussion\n",
    "* see suggested questions to guide reading in syllabus (also below)"
   ]
  },
  {
   "cell_type": "markdown",
   "metadata": {
    "slideshow": {
     "slide_type": "subslide"
    },
    "tags": []
   },
   "source": [
    "## Journal club: 10 questions to discuss\n",
    "\n",
    "<div style=\"font-size: small;\">\n",
    "  <ol>\n",
    "    <li>What are the goals of the study? What is the motivation?</li>\n",
    "    <li>In your own words, what is the take home message of this paper? i.e. what do you hope to remember about this work?</li>\n",
    "    <li>List 3 things you learned that you didn’t know before. These can be about background, methods, or anything else.</li>\n",
    "    <li>List the things you didn’t understand about the paper (so you can follow up).</li>\n",
    "    <li>What’s the most important or interesting thing you saw in the supplemental data?</li>\n",
    "    <li>Are the data presented in a manner that allows you to interpret them? Is any relevant information missing? Are the figures clear and/or quantified?</li>\n",
    "    <li>If you look at the data (figures and tables) alone, do you reach the same conclusions as the authors do? Do the data suggest an alternative explanation?</li>\n",
    "    <li>Suggest at least one orthogonal analysis not in the paper that might strengthen the results or might have been included instead.</li>\n",
    "    <li>Does this paper make you think differently about your own project or experiments? If so, make note.</li>\n",
    "    <li>What topic did this paper make you want to read more about?</li>\n",
    "  </ol>\n",
    "</div>\n"
   ]
  },
  {
   "cell_type": "markdown",
   "metadata": {
    "slideshow": {
     "slide_type": "slide"
    },
    "tags": []
   },
   "source": [
    "### Again, Welcome to Intro to Big Data in the Biomedical Sciences!\n",
    "<left><img width=25% src=\"img/cu_logo.svg\"></left>"
   ]
  },
  {
   "cell_type": "markdown",
   "metadata": {
    "slideshow": {
     "slide_type": "slide"
    },
    "tags": []
   },
   "source": [
    "# Executable Course Materials\n",
    "\n",
    "The core materials for this course (including the slides!) are created using Jupyter notebooks.\n",
    "* We are going to embed and execute code directly in the slides and use that to demonstrate algorithms.\n",
    "* These slides can be downloaded locally and all the code can be reproduced."
   ]
  },
  {
   "cell_type": "code",
   "execution_count": 1,
   "metadata": {
    "slideshow": {
     "slide_type": "fragment"
    },
    "tags": []
   },
   "outputs": [],
   "source": [
    "import matplotlib.pyplot as plt\n",
    "import numpy as np\n",
    "from sklearn import datasets\n",
    "\n",
    "plt.rcParams[\"figure.figsize\"] = [12, 4]"
   ]
  },
  {
   "cell_type": "markdown",
   "metadata": {
    "slideshow": {
     "slide_type": "subslide"
    },
    "tags": []
   },
   "source": [
    "We can use these libraries to load a simple dataset of handwritten digits."
   ]
  },
  {
   "cell_type": "code",
   "execution_count": 2,
   "metadata": {
    "slideshow": {
     "slide_type": "fragment"
    },
    "tags": []
   },
   "outputs": [
    {
     "data": {
      "image/png": "[encoded data removed]",
      "text/plain": [
       "<Figure size 1200x400 with 4 Axes>"
      ]
     },
     "metadata": {},
     "output_type": "display_data"
    }
   ],
   "source": [
    "# https://scikit-learn.org/stable/auto_examples/classification/plot_digits_classification.html\n",
    "# load the digits dataset\n",
    "digits = datasets.load_digits()\n",
    "\n",
    "# The data that we are interested in is made of 8x8 images of digits, let's\n",
    "# have a look at the first 4 images.\n",
    "_, axes = plt.subplots(1, 4)\n",
    "images_and_labels = list(zip(digits.images, digits.target))\n",
    "for ax, (image, label) in zip(axes, images_and_labels[:4]):\n",
    "    ax.set_axis_off()\n",
    "    ax.imshow(image, cmap=plt.cm.gray_r, interpolation=\"nearest\")\n",
    "    ax.set_title(\"Label: %i\" % label)"
   ]
  },
  {
   "cell_type": "markdown",
   "metadata": {
    "slideshow": {
     "slide_type": "subslide"
    },
    "tags": []
   },
   "source": [
    "We can now load and train this algorithm inside the slides."
   ]
  },
  {
   "cell_type": "code",
   "execution_count": 3,
   "metadata": {
    "slideshow": {
     "slide_type": "fragment"
    },
    "tags": []
   },
   "outputs": [],
   "source": [
    "np.random.seed(0)\n",
    "# To apply a classifier on this data, we need to flatten the image, to\n",
    "# turn the data into a (samples, feature) matrix:\n",
    "data = digits.images.reshape((len(digits.images), -1))\n",
    "n_samples = data.shape[0]\n",
    "\n",
    "# create a small neural network model\n",
    "from sklearn.model_selection import train_test_split  # noqa E402\n",
    "from sklearn.neural_network import MLPClassifier  # noqa E402\n",
    "\n",
    "classifier = MLPClassifier(alpha=1e-3)\n",
    "\n",
    "# Split data into train and test subsets\n",
    "X_train, X_test, y_train, y_test = train_test_split(\n",
    "    data, digits.target, test_size=0.5, shuffle=False\n",
    ")\n",
    "\n",
    "# We learn the digits on the first half of the digits\n",
    "classifier.fit(X_train, y_train)\n",
    "\n",
    "# Now predict the value of the digit on the second half:\n",
    "predicted = classifier.predict(X_test)"
   ]
  },
  {
   "cell_type": "markdown",
   "metadata": {
    "slideshow": {
     "slide_type": "subslide"
    },
    "tags": []
   },
   "source": [
    "We can now visualize the results."
   ]
  },
  {
   "cell_type": "code",
   "execution_count": 4,
   "metadata": {
    "slideshow": {
     "slide_type": "fragment"
    },
    "tags": []
   },
   "outputs": [
    {
     "data": {
      "image/png": "[encoded data removed]",
      "text/plain": [
       "<Figure size 1200x400 with 4 Axes>"
      ]
     },
     "metadata": {},
     "output_type": "display_data"
    }
   ],
   "source": [
    "_, axes = plt.subplots(1, 4)\n",
    "images_and_predictions = list(zip(digits.images[n_samples // 2 :], predicted))\n",
    "for ax, (image, prediction) in zip(axes, images_and_predictions[:4]):\n",
    "    ax.imshow(image, cmap=plt.cm.gray_r, interpolation=\"nearest\")\n",
    "    ax.set_title(\"Prediction: %i\" % prediction)"
   ]
  },
  {
   "cell_type": "markdown",
   "metadata": {
    "slideshow": {
     "slide_type": "slide"
    },
    "tags": []
   },
   "source": [
    "# **Hands-on**: creating a programming environment\n",
    "\n",
    "* Create a personal GitHub repository where you'll store your exercises and assigments.\n",
    "* Create a conda environment to run your code.\n",
    "* Create a new Jupyter notebook and copy the code above under section \"Executable Course Materials\"\n",
    "    * Make sure you can run the code.\n",
    "    * At the end of the notebook, using the concepts learned during the lecture, describe what kind of model you just ran."
   ]
  },
  {
   "cell_type": "markdown",
   "metadata": {
    "slideshow": {
     "slide_type": "subslide"
    },
    "tags": []
   },
   "source": [
    "## Tips\n",
    "* Some suggested packages that make life easier:\n",
    "    * `jupyterlab`\n",
    "    * `jupytext`\n",
    "* *Tip:* Through out the course, check out the `scikit-learn` [user guide](https://scikit-learn.org/stable/user_guide.html) and [API](https://scikit-learn.org/stable/api/index.html) (for specific models).\n",
    "    * For this example, the documentation for the [MLPClassifier](https://scikit-learn.org/stable/modules/generated/sklearn.neural_network.MLPClassifier.html) might be helpful."
   ]
  },
  {
   "cell_type": "code",
   "execution_count": null,
   "metadata": {
    "slideshow": {
     "slide_type": "skip"
    },
    "tags": [
     "remove_cell"
    ]
   },
   "outputs": [],
   "source": []
  }
 ],
 "metadata": {
  "accelerator": "GPU",
  "celltoolbar": "Slideshow",
  "colab": {
   "collapsed_sections": [],
   "name": "neural-ode.ipynb",
   "provenance": []
  },
  "jupytext": {
   "cell_metadata_filter": "all,-execution,-papermill,-trusted",
   "notebook_metadata_filter": "-jupytext.text_representation.jupytext_version"
  },
  "kernelspec": {
   "display_name": "Python 3 (ipykernel)",
   "language": "python",
   "name": "python3"
  },
  "language_info": {
   "codemirror_mode": {
    "name": "ipython",
    "version": 3
   },
   "file_extension": ".py",
   "mimetype": "text/x-python",
   "name": "python",
   "nbconvert_exporter": "python",
   "pygments_lexer": "ipython3",
   "version": "3.9.12"
  },
  "rise": {
   "controlsTutorial": false,
   "height": 900,
   "help": false,
   "margin": 0,
   "maxScale": 2,
   "minScale": 0.2,
   "progress": true,
   "scroll": true,
   "theme": "simple",
   "width": 1200
  }
 },
 "nbformat": 4,
 "nbformat_minor": 4
}
